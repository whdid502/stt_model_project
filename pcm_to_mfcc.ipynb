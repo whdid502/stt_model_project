{
  "nbformat": 4,
  "nbformat_minor": 0,
  "metadata": {
    "colab": {
      "name": "pcm to mfcc.ipynb",
      "provenance": [],
      "mount_file_id": "1E9XMwVJOP_7vviTEtchyWhLIJtjfGQ_-",
      "authorship_tag": "ABX9TyNjc4u4Eah/mNRJ/ELUxl4Q",
      "include_colab_link": true
    },
    "kernelspec": {
      "name": "python3",
      "display_name": "Python 3"
    }
  },
  "cells": [
    {
      "cell_type": "markdown",
      "metadata": {
        "id": "view-in-github",
        "colab_type": "text"
      },
      "source": [
        "<a href=\"https://colab.research.google.com/github/whdid502/stt_model_project/blob/feature_extraction/pcm_to_mfcc.ipynb\" target=\"_parent\"><img src=\"https://colab.research.google.com/assets/colab-badge.svg\" alt=\"Open In Colab\"/></a>"
      ]
    },
    {
      "cell_type": "markdown",
      "metadata": {
        "id": "DbEm92BLqOgp"
      },
      "source": [
        "tensorflow 1.13.2 버전 필요"
      ]
    },
    {
      "cell_type": "code",
      "metadata": {
        "id": "CHzTWbl9pmnL",
        "outputId": "fba27eb4-86f9-40d8-abd7-4e25410addbe",
        "colab": {
          "base_uri": "https://localhost:8080/",
          "height": 745
        }
      },
      "source": [
        "!pip install tensorflow==1.13.2"
      ],
      "execution_count": null,
      "outputs": [
        {
          "output_type": "stream",
          "text": [
            "Collecting tensorflow==1.13.2\n",
            "\u001b[?25l  Downloading https://files.pythonhosted.org/packages/db/d3/651f95288a6cd9094f7411cdd90ef12a3d01a268009e0e3cd66b5c8d65bd/tensorflow-1.13.2-cp36-cp36m-manylinux1_x86_64.whl (92.6MB)\n",
            "\u001b[K     |████████████████████████████████| 92.6MB 71kB/s \n",
            "\u001b[?25hRequirement already satisfied: gast>=0.2.0 in /usr/local/lib/python3.6/dist-packages (from tensorflow==1.13.2) (0.3.3)\n",
            "Collecting tensorboard<1.14.0,>=1.13.0\n",
            "\u001b[?25l  Downloading https://files.pythonhosted.org/packages/0f/39/bdd75b08a6fba41f098b6cb091b9e8c7a80e1b4d679a581a0ccd17b10373/tensorboard-1.13.1-py3-none-any.whl (3.2MB)\n",
            "\u001b[K     |████████████████████████████████| 3.2MB 31.7MB/s \n",
            "\u001b[?25hCollecting keras-applications>=1.0.6\n",
            "\u001b[?25l  Downloading https://files.pythonhosted.org/packages/71/e3/19762fdfc62877ae9102edf6342d71b28fbfd9dea3d2f96a882ce099b03f/Keras_Applications-1.0.8-py3-none-any.whl (50kB)\n",
            "\u001b[K     |████████████████████████████████| 51kB 4.6MB/s \n",
            "\u001b[?25hRequirement already satisfied: grpcio>=1.8.6 in /usr/local/lib/python3.6/dist-packages (from tensorflow==1.13.2) (1.32.0)\n",
            "Requirement already satisfied: astor>=0.6.0 in /usr/local/lib/python3.6/dist-packages (from tensorflow==1.13.2) (0.8.1)\n",
            "Requirement already satisfied: numpy<2.0,>=1.16.0 in /usr/local/lib/python3.6/dist-packages (from tensorflow==1.13.2) (1.18.5)\n",
            "Requirement already satisfied: wheel>=0.26 in /usr/local/lib/python3.6/dist-packages (from tensorflow==1.13.2) (0.35.1)\n",
            "Requirement already satisfied: absl-py>=0.1.6 in /usr/local/lib/python3.6/dist-packages (from tensorflow==1.13.2) (0.10.0)\n",
            "Collecting tensorflow-estimator<1.14.0rc0,>=1.13.0\n",
            "\u001b[?25l  Downloading https://files.pythonhosted.org/packages/bb/48/13f49fc3fa0fdf916aa1419013bb8f2ad09674c275b4046d5ee669a46873/tensorflow_estimator-1.13.0-py2.py3-none-any.whl (367kB)\n",
            "\u001b[K     |████████████████████████████████| 368kB 38.5MB/s \n",
            "\u001b[?25hRequirement already satisfied: protobuf>=3.6.1 in /usr/local/lib/python3.6/dist-packages (from tensorflow==1.13.2) (3.12.4)\n",
            "Requirement already satisfied: six>=1.10.0 in /usr/local/lib/python3.6/dist-packages (from tensorflow==1.13.2) (1.15.0)\n",
            "Requirement already satisfied: keras-preprocessing>=1.0.5 in /usr/local/lib/python3.6/dist-packages (from tensorflow==1.13.2) (1.1.2)\n",
            "Requirement already satisfied: termcolor>=1.1.0 in /usr/local/lib/python3.6/dist-packages (from tensorflow==1.13.2) (1.1.0)\n",
            "Requirement already satisfied: werkzeug>=0.11.15 in /usr/local/lib/python3.6/dist-packages (from tensorboard<1.14.0,>=1.13.0->tensorflow==1.13.2) (1.0.1)\n",
            "Requirement already satisfied: markdown>=2.6.8 in /usr/local/lib/python3.6/dist-packages (from tensorboard<1.14.0,>=1.13.0->tensorflow==1.13.2) (3.2.2)\n",
            "Requirement already satisfied: h5py in /usr/local/lib/python3.6/dist-packages (from keras-applications>=1.0.6->tensorflow==1.13.2) (2.10.0)\n",
            "Collecting mock>=2.0.0\n",
            "  Downloading https://files.pythonhosted.org/packages/cd/74/d72daf8dff5b6566db857cfd088907bb0355f5dd2914c4b3ef065c790735/mock-4.0.2-py3-none-any.whl\n",
            "Requirement already satisfied: setuptools in /usr/local/lib/python3.6/dist-packages (from protobuf>=3.6.1->tensorflow==1.13.2) (50.3.0)\n",
            "Requirement already satisfied: importlib-metadata; python_version < \"3.8\" in /usr/local/lib/python3.6/dist-packages (from markdown>=2.6.8->tensorboard<1.14.0,>=1.13.0->tensorflow==1.13.2) (2.0.0)\n",
            "Requirement already satisfied: zipp>=0.5 in /usr/local/lib/python3.6/dist-packages (from importlib-metadata; python_version < \"3.8\"->markdown>=2.6.8->tensorboard<1.14.0,>=1.13.0->tensorflow==1.13.2) (3.2.0)\n",
            "Installing collected packages: tensorboard, keras-applications, mock, tensorflow-estimator, tensorflow\n",
            "  Found existing installation: tensorboard 2.3.0\n",
            "    Uninstalling tensorboard-2.3.0:\n",
            "      Successfully uninstalled tensorboard-2.3.0\n",
            "  Found existing installation: tensorflow-estimator 2.3.0\n",
            "    Uninstalling tensorflow-estimator-2.3.0:\n",
            "      Successfully uninstalled tensorflow-estimator-2.3.0\n",
            "  Found existing installation: tensorflow 2.3.0\n",
            "    Uninstalling tensorflow-2.3.0:\n",
            "      Successfully uninstalled tensorflow-2.3.0\n",
            "Successfully installed keras-applications-1.0.8 mock-4.0.2 tensorboard-1.13.1 tensorflow-1.13.2 tensorflow-estimator-1.13.0\n"
          ],
          "name": "stdout"
        }
      ]
    },
    {
      "cell_type": "code",
      "metadata": {
        "id": "ltr66vdupw-5",
        "outputId": "c5a6e2a4-3f5a-40ea-88ce-e132852151b6",
        "colab": {
          "base_uri": "https://localhost:8080/",
          "height": 390
        }
      },
      "source": [
        "!pip3 install SpecAugment"
      ],
      "execution_count": null,
      "outputs": [
        {
          "output_type": "stream",
          "text": [
            "Collecting SpecAugment\n",
            "  Downloading https://files.pythonhosted.org/packages/c7/32/c569482868868631df63fdd406854bd82be05362a7d8cb45b1970ea51374/SpecAugment-1.2.5-py3-none-any.whl\n",
            "Requirement already satisfied: librosa in /usr/local/lib/python3.6/dist-packages (from SpecAugment) (0.6.3)\n",
            "Requirement already satisfied: matplotlib in /usr/local/lib/python3.6/dist-packages (from SpecAugment) (3.2.2)\n",
            "Requirement already satisfied: scikit-learn!=0.19.0,>=0.14.0 in /usr/local/lib/python3.6/dist-packages (from librosa->SpecAugment) (0.22.2.post1)\n",
            "Requirement already satisfied: numba>=0.38.0 in /usr/local/lib/python3.6/dist-packages (from librosa->SpecAugment) (0.48.0)\n",
            "Requirement already satisfied: scipy>=1.0.0 in /usr/local/lib/python3.6/dist-packages (from librosa->SpecAugment) (1.4.1)\n",
            "Requirement already satisfied: joblib>=0.12 in /usr/local/lib/python3.6/dist-packages (from librosa->SpecAugment) (0.16.0)\n",
            "Requirement already satisfied: six>=1.3 in /usr/local/lib/python3.6/dist-packages (from librosa->SpecAugment) (1.15.0)\n",
            "Requirement already satisfied: decorator>=3.0.0 in /usr/local/lib/python3.6/dist-packages (from librosa->SpecAugment) (4.4.2)\n",
            "Requirement already satisfied: numpy>=1.8.0 in /usr/local/lib/python3.6/dist-packages (from librosa->SpecAugment) (1.18.5)\n",
            "Requirement already satisfied: resampy>=0.2.0 in /usr/local/lib/python3.6/dist-packages (from librosa->SpecAugment) (0.2.2)\n",
            "Requirement already satisfied: audioread>=2.0.0 in /usr/local/lib/python3.6/dist-packages (from librosa->SpecAugment) (2.1.8)\n",
            "Requirement already satisfied: pyparsing!=2.0.4,!=2.1.2,!=2.1.6,>=2.0.1 in /usr/local/lib/python3.6/dist-packages (from matplotlib->SpecAugment) (2.4.7)\n",
            "Requirement already satisfied: python-dateutil>=2.1 in /usr/local/lib/python3.6/dist-packages (from matplotlib->SpecAugment) (2.8.1)\n",
            "Requirement already satisfied: kiwisolver>=1.0.1 in /usr/local/lib/python3.6/dist-packages (from matplotlib->SpecAugment) (1.2.0)\n",
            "Requirement already satisfied: cycler>=0.10 in /usr/local/lib/python3.6/dist-packages (from matplotlib->SpecAugment) (0.10.0)\n",
            "Requirement already satisfied: setuptools in /usr/local/lib/python3.6/dist-packages (from numba>=0.38.0->librosa->SpecAugment) (50.3.0)\n",
            "Requirement already satisfied: llvmlite<0.32.0,>=0.31.0dev0 in /usr/local/lib/python3.6/dist-packages (from numba>=0.38.0->librosa->SpecAugment) (0.31.0)\n",
            "Installing collected packages: SpecAugment\n",
            "Successfully installed SpecAugment-1.2.5\n"
          ],
          "name": "stdout"
        }
      ]
    },
    {
      "cell_type": "code",
      "metadata": {
        "id": "ODXTSpJappST"
      },
      "source": [
        "import wave\n",
        "import librosa\n",
        "import IPython.display as ipd\n",
        "# from matplotlib import pyplot as plt\n",
        "import numpy as np\n",
        "import argparse\n",
        "import librosa.display\n",
        "import matplotlib.pyplot as plt\n",
        "import random\n",
        "import tensorflow as tf\n",
        "from specAugment import spec_augment_tensorflow\n",
        "from scipy.fftpack import dct\n",
        "import os"
      ],
      "execution_count": null,
      "outputs": []
    },
    {
      "cell_type": "code",
      "metadata": {
        "id": "MzHS82sCSYpO"
      },
      "source": [
        "import matplotlib\n",
        "matplotlib.use('TKAgg')"
      ],
      "execution_count": null,
      "outputs": []
    },
    {
      "cell_type": "markdown",
      "metadata": {
        "id": "5okYqNlLqWU1"
      },
      "source": [
        "pcm to mfcc"
      ]
    },
    {
      "cell_type": "code",
      "metadata": {
        "id": "AJoVpgWWNA5G"
      },
      "source": [
        "def pcm_to_mfcc(audio_path, noise_injection):\n",
        "\n",
        "  signal = np.memmap(audio_path, dtype='h', mode='r').astype('float32') # load audio\n",
        "  data = signal / 32767   # normalize audio\n",
        "\n",
        "  if noise_injection:           # noise injection\n",
        "    wn = np.random.randn(len(data))\n",
        "    data_wn = data + 0.005*wn\n",
        "  else:\n",
        "    data_wn = data\n",
        "  \n",
        "  sr = 16000\n",
        "  mel_spectrogram = librosa.feature.melspectrogram(y=data_wn, sr=sr, n_mels=256, hop_length=128, fmax=8000) # data to melspectrogram\n",
        "\n",
        "  warped_masked_spectrogram = spec_augment_tensorflow.spec_augment(mel_spectrogram=mel_spectrogram) # melspectrogram spec augmentation\n",
        "\n",
        "  num_ceps = 12\n",
        "  mfcc = dct(warped_masked_spectrogram, type=2, axis=1, norm='ortho')[:, 1 : (num_ceps + 1)] # mel spectrogram to mfcc\n",
        "\n",
        "  return mfcc"
      ],
      "execution_count": null,
      "outputs": []
    },
    {
      "cell_type": "code",
      "metadata": {
        "id": "1ecuuQTzOVHn",
        "outputId": "713642a1-c6fe-4975-f8a0-47e16e817a4a",
        "colab": {
          "base_uri": "https://localhost:8080/",
          "height": 70
        }
      },
      "source": [
        "output = pcm_to_mfcc('/content/drive/My Drive/googledrive/feature_test/KsponSpeech_000001.pcm', True)"
      ],
      "execution_count": null,
      "outputs": [
        {
          "output_type": "stream",
          "text": [
            "WARNING:tensorflow:From /usr/local/lib/python3.6/dist-packages/tensorflow/python/ops/control_flow_ops.py:3632: colocate_with (from tensorflow.python.framework.ops) is deprecated and will be removed in a future version.\n",
            "Instructions for updating:\n",
            "Colocations handled automatically by placer.\n"
          ],
          "name": "stdout"
        }
      ]
    },
    {
      "cell_type": "code",
      "metadata": {
        "id": "rwqSWz05PHsk",
        "outputId": "19a2e4e1-2c66-4305-8400-e5ba7d8fdc3e",
        "colab": {
          "base_uri": "https://localhost:8080/",
          "height": 247
        }
      },
      "source": [
        "output"
      ],
      "execution_count": null,
      "outputs": [
        {
          "output_type": "execute_result",
          "data": {
            "text/plain": [
              "array([[-7.49562532e-02, -2.84702599e-01,  1.81425169e-01, ...,\n",
              "        -5.52867241e-02, -1.92406625e-01,  1.60623193e-01],\n",
              "       [-2.75385045e-02, -1.22367762e-01,  9.37460214e-02, ...,\n",
              "        -1.24541800e-02, -1.62427761e-02,  1.17731623e-01],\n",
              "       [-7.21717775e-02, -1.06115863e-01,  7.93983638e-02, ...,\n",
              "        -2.44816616e-02,  1.49585530e-01,  2.84625664e-02],\n",
              "       ...,\n",
              "       [-3.47786536e-03,  1.18186008e-02,  6.08306611e-03, ...,\n",
              "        -2.65331077e-03, -4.77150874e-03, -2.84313178e-03],\n",
              "       [-5.50996093e-03,  9.00761224e-03,  7.85221439e-03, ...,\n",
              "        -3.16950865e-03, -2.18405272e-03,  3.81596386e-04],\n",
              "       [-8.14237399e-04,  1.17114745e-02,  1.16785765e-02, ...,\n",
              "        -2.55373679e-03,  2.33036117e-04, -1.18544069e-03]], dtype=float32)"
            ]
          },
          "metadata": {
            "tags": []
          },
          "execution_count": 9
        }
      ]
    },
    {
      "cell_type": "markdown",
      "metadata": {
        "id": "GGiR_3w_dkux"
      },
      "source": [
        "폴더 훑어서 일괄적용"
      ]
    },
    {
      "cell_type": "code",
      "metadata": {
        "id": "WvAy9Q3jjDCr",
        "outputId": "cf512869-cdc6-463c-c5c8-3cbf4e7647f3",
        "colab": {
          "base_uri": "https://localhost:8080/",
          "height": 52
        }
      },
      "source": [
        "total_list = []\n",
        "mfcc_list = []\n",
        "\n",
        "def mfcc_in_dir(root_dir, batch_size):\n",
        "    files = os.listdir(root_dir)\n",
        "    for file in files:\n",
        "        path = os.path.join(root_dir, file)\n",
        "        # print(path)\n",
        "        if os.path.isdir(path):\n",
        "            mfcc_in_dir(path, 5)\n",
        "        total_list.append(path)\n",
        "    file_list_pcm = [file for file in total_list if file.endswith(\".pcm\")]\n",
        "\n",
        "    convert_count = 0\n",
        "\n",
        "    for pcm in file_list_pcm:\n",
        "      mfcc_list.append(pcm_to_mfcc(pcm, False))\n",
        "      convert_count += 1\n",
        "      if convert_count == batch_size:\n",
        "        print(convert_count)\n",
        "        break\n",
        "\n",
        "mfcc_in_dir('/content/drive/My Drive/googledrive/feature_test', 5)"
      ],
      "execution_count": 16,
      "outputs": [
        {
          "output_type": "stream",
          "text": [
            "5\n",
            "5\n"
          ],
          "name": "stdout"
        }
      ]
    },
    {
      "cell_type": "code",
      "metadata": {
        "id": "LcKVsDtCyDIR",
        "outputId": "ad01810a-143d-4a11-8f69-47af394463a5",
        "colab": {
          "base_uri": "https://localhost:8080/",
          "height": 1000
        }
      },
      "source": [
        "mfcc_list"
      ],
      "execution_count": null,
      "outputs": [
        {
          "output_type": "execute_result",
          "data": {
            "text/plain": [
              "[array([[ 2.92928964e-01, -7.46850967e-01, -5.90744257e-01, ...,\n",
              "          4.71508563e-01,  8.64344686e-02, -4.33462501e-01],\n",
              "        [ 2.65936017e-01, -4.30088580e-01, -4.71719921e-01, ...,\n",
              "          6.50191456e-02, -2.03078054e-02,  6.86875405e-03],\n",
              "        [ 1.06439635e-01, -2.42870539e-01, -2.51687348e-01, ...,\n",
              "         -2.06989616e-01, -8.71159732e-02,  2.88361609e-01],\n",
              "        ...,\n",
              "        [ 1.74800269e-04, -3.74166702e-04, -4.09646949e-04, ...,\n",
              "          2.59663735e-04,  1.82679389e-04, -1.28293279e-04],\n",
              "        [ 8.77332568e-05, -1.56589114e-04, -1.97498011e-04, ...,\n",
              "          6.16923789e-05,  9.18092119e-05,  1.38410778e-05],\n",
              "        [ 3.38637547e-05, -7.59008399e-05, -8.09584162e-05, ...,\n",
              "          5.58791944e-05,  4.38850693e-05, -2.62197009e-05]], dtype=float32),\n",
              " array([[-2.80249864e-02, -4.09720689e-01,  1.08020857e-01, ...,\n",
              "          8.20641965e-02, -3.13689828e-01,  1.14984244e-01],\n",
              "        [-8.99998844e-02, -1.13807678e+00,  1.41150698e-01, ...,\n",
              "         -2.43522495e-01, -5.39878011e-01,  6.97086692e-01],\n",
              "        [ 1.85593800e-03, -8.39980125e-01,  6.43129796e-02, ...,\n",
              "         -5.38111508e-01, -2.35305697e-01,  6.47222459e-01],\n",
              "        ...,\n",
              "        [ 7.04705622e-03,  2.74059130e-04,  9.20716114e-03, ...,\n",
              "         -1.39568793e-03, -6.02989551e-03,  8.99305753e-03],\n",
              "        [ 5.34453522e-03,  1.07261818e-03,  4.84281825e-03, ...,\n",
              "         -1.29035406e-03, -2.46881740e-03,  4.94019687e-03],\n",
              "        [ 5.05611021e-03,  2.27067899e-03,  2.68612546e-03, ...,\n",
              "         -1.56624103e-03, -7.51837797e-04,  3.46240401e-03]], dtype=float32),\n",
              " array([[-1.1558142e-01, -9.0206850e-01, -5.9430504e-01, ...,\n",
              "          2.8612429e-01,  8.3696708e-02,  1.9415474e-01],\n",
              "        [-8.7019075e-03, -3.9874744e-01, -1.6110605e-01, ...,\n",
              "          1.6517432e-01,  5.8388114e-02,  7.6687485e-02],\n",
              "        [ 9.2067905e-03, -1.6407207e-02,  9.6832752e-02, ...,\n",
              "          2.9665414e-02,  1.2142703e-01,  6.9815040e-02],\n",
              "        ...,\n",
              "        [-3.5675950e-03, -5.1625175e-03,  6.9827847e-03, ...,\n",
              "          1.9347195e-03, -5.4619799e-04, -1.6292511e-03],\n",
              "        [-2.2784751e-03, -3.0930012e-03,  4.4237897e-03, ...,\n",
              "          9.5334742e-04, -4.2718774e-04, -7.4861606e-04],\n",
              "        [-1.7301885e-03, -2.4016663e-03,  3.4188584e-03, ...,\n",
              "          7.5045344e-04, -6.6505407e-04, -3.8067074e-04]], dtype=float32),\n",
              " array([[ 0.0362909 , -0.26003718, -0.15258491, ..., -0.03514148,\n",
              "          0.11585743,  0.09041272],\n",
              "        [ 0.02762247, -0.5848037 , -0.13152182, ..., -0.32390833,\n",
              "          0.20646155,  0.3923971 ],\n",
              "        [-0.01689555, -0.49565744,  0.04060463, ..., -0.37414876,\n",
              "          0.22803944,  0.35831827],\n",
              "        ...,\n",
              "        [-0.0037296 , -0.03388717,  0.01091142, ..., -0.01423268,\n",
              "          0.02746799,  0.00757426],\n",
              "        [-0.00131559, -0.01498527,  0.00387315, ..., -0.00883403,\n",
              "          0.01082365,  0.00659159],\n",
              "        [-0.00083648, -0.00790683,  0.00245087, ..., -0.00360607,\n",
              "          0.00639108,  0.00209961]], dtype=float32),\n",
              " array([[-4.8252732e-02, -8.8537699e-03,  1.2746296e-02, ...,\n",
              "         -2.3862377e-02, -4.4700265e-02, -4.5663387e-02],\n",
              "        [-1.9506837e-03, -8.0856748e-02, -3.2139294e-02, ...,\n",
              "         -5.2627105e-02, -9.1844156e-02, -1.5514918e-01],\n",
              "        [ 7.3372357e-02, -1.0380338e-01, -8.3176427e-02, ...,\n",
              "         -8.4815741e-02, -1.4498964e-01, -1.6898869e-01],\n",
              "        ...,\n",
              "        [-2.6425617e-03,  3.3843989e-04,  2.9541802e-04, ...,\n",
              "         -2.9511359e-03, -1.9350336e-03,  1.0689476e-03],\n",
              "        [-9.5475034e-04,  1.4738931e-04,  1.2793245e-04, ...,\n",
              "         -9.6451165e-04, -6.2291196e-04,  4.1957377e-04],\n",
              "        [-1.5002638e-03,  5.7718705e-04,  2.5464848e-05, ...,\n",
              "         -1.2148404e-03,  6.4901629e-05,  3.3327751e-04]], dtype=float32),\n",
              " array([[ 3.0218726e-01, -3.6477396e-01, -6.0960633e-01, ...,\n",
              "          2.7108103e-01,  6.0317077e-02, -2.3389022e-01],\n",
              "        [ 2.7599400e-01, -1.6264269e-01, -4.7999507e-01, ...,\n",
              "          6.2830955e-02,  4.1759606e-02,  2.0805337e-02],\n",
              "        [ 1.0583798e-01, -6.8215057e-02, -2.5347507e-01, ...,\n",
              "         -4.6249971e-02,  3.3559622e-03,  1.4272514e-01],\n",
              "        ...,\n",
              "        [ 1.6230866e-04, -3.5721826e-04, -3.9372197e-04, ...,\n",
              "          2.7902852e-04,  9.1832226e-05, -1.8125652e-04],\n",
              "        [ 8.1429207e-05, -1.5033453e-04, -1.8976332e-04, ...,\n",
              "          8.3375548e-05,  8.2141705e-05, -5.0474546e-06],\n",
              "        [ 3.1123003e-05, -6.9598129e-05, -7.6867902e-05, ...,\n",
              "          5.9591570e-05,  2.5872205e-05, -3.7169717e-05]], dtype=float32),\n",
              " array([[-0.08104656, -0.38525385,  0.12816903, ..., -0.11583757,\n",
              "         -0.05890532,  0.2961207 ],\n",
              "        [-0.23983891, -1.0607331 ,  0.3618868 , ..., -0.15164903,\n",
              "          0.29619732,  0.40066588],\n",
              "        [-0.11185175, -0.7577462 ,  0.33669254, ..., -0.07210036,\n",
              "          0.52542543,  0.10893744],\n",
              "        ...,\n",
              "        [ 0.0078156 ,  0.00158424,  0.00673828, ...,  0.00270785,\n",
              "          0.00976557,  0.01863927],\n",
              "        [ 0.0059254 ,  0.00162673,  0.00330502, ...,  0.00281639,\n",
              "          0.00662414,  0.01114474],\n",
              "        [ 0.0056768 ,  0.00234432,  0.00127748, ...,  0.00300477,\n",
              "          0.00590855,  0.0083786 ]], dtype=float32),\n",
              " array([[-1.5076470e-02, -8.2291281e-01, -5.0845534e-01, ...,\n",
              "          1.7420836e-01, -1.2668652e-02,  4.4680426e-01],\n",
              "        [ 3.6057442e-02, -3.8459617e-01, -1.1120346e-01, ...,\n",
              "          7.4967779e-02,  8.0032192e-02,  1.5005128e-01],\n",
              "        [ 1.0644194e-02, -4.3292515e-02,  1.2711787e-01, ...,\n",
              "         -2.5168573e-02,  5.8838829e-02,  1.1434236e-01],\n",
              "        ...,\n",
              "        [-2.8038560e-03, -6.9688680e-03,  6.7780195e-03, ...,\n",
              "          6.4302096e-04,  3.0109710e-03, -1.8201235e-03],\n",
              "        [-1.8181984e-03, -4.2372369e-03,  4.3146797e-03, ...,\n",
              "          5.2349537e-04,  1.4785824e-03, -1.0454743e-03],\n",
              "        [-1.3672356e-03, -3.2722680e-03,  3.2156394e-03, ...,\n",
              "          7.3540129e-04,  8.0584537e-04, -7.8209350e-04]], dtype=float32),\n",
              " array([[ 0.02914775, -0.28030798, -0.11355063, ...,  0.07151927,\n",
              "          0.12568806, -0.07062311],\n",
              "        [-0.00865623, -0.5935924 , -0.00780615, ...,  0.00588248,\n",
              "          0.4391688 , -0.04275356],\n",
              "        [-0.05847252, -0.4790174 ,  0.16832648, ...,  0.00606798,\n",
              "          0.4310221 , -0.10095336],\n",
              "        ...,\n",
              "        [-0.00735061, -0.03156668,  0.02052033, ...,  0.01638151,\n",
              "          0.02092899, -0.02406511],\n",
              "        [-0.00286069, -0.01418996,  0.00810778, ...,  0.00420117,\n",
              "          0.01169155, -0.00824318],\n",
              "        [-0.00161187, -0.00741333,  0.00453533, ...,  0.00311629,\n",
              "          0.00553009, -0.00513556]], dtype=float32),\n",
              " array([[ 3.93615663e-02, -3.75317186e-01, -1.31030083e-01, ...,\n",
              "         -3.98516282e-02, -2.88321257e-01, -9.69279110e-02],\n",
              "        [ 8.06226432e-02, -4.39350665e-01, -1.45649731e-01, ...,\n",
              "         -1.07228130e-01, -2.99834192e-01, -1.48176193e-01],\n",
              "        [ 1.03595331e-01, -2.22178221e-01, -1.03918776e-01, ...,\n",
              "         -8.76024961e-02, -2.36351117e-01, -1.68428570e-01],\n",
              "        ...,\n",
              "        [ 9.77822463e-04, -8.02690536e-03, -2.06131465e-03, ...,\n",
              "          2.19851408e-05, -8.51288065e-03, -1.59076415e-03],\n",
              "        [ 7.69203180e-04, -4.43913974e-03, -1.94714149e-03, ...,\n",
              "          1.27338362e-03, -3.55309551e-03, -1.97986187e-03],\n",
              "        [ 3.24078690e-04, -2.79716006e-03, -9.78427706e-04, ...,\n",
              "          1.00837415e-03, -1.93750090e-03, -1.07224938e-03]], dtype=float32)]"
            ]
          },
          "metadata": {
            "tags": []
          },
          "execution_count": 15
        }
      ]
    }
  ]
}