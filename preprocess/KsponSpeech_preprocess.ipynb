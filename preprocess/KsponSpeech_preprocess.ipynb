{
  "nbformat": 4,
  "nbformat_minor": 0,
  "metadata": {
    "colab": {
      "name": "KsponSpeech-preprocess.ipynb",
      "provenance": [],
      "collapsed_sections": [],
      "machine_shape": "hm"
    },
    "kernelspec": {
      "name": "python3",
      "display_name": "Python 3"
    },
    "accelerator": "TPU"
  },
  "cells": [
    {
      "cell_type": "code",
      "metadata": {
        "id": "5RMRocAAVFMs"
      },
      "source": [
        "!pip install pandas\n",
        "!pip install sentencepiece\n",
        "!pip install hgtk\n",
        "!pip install gluonnlp\n",
        "\n",
        "!git clone https://github.com/SKTBrain/KoBERT.git\n",
        "!pip install -r KoBERT/requirements.txt\n",
        "!pip install KoBERT/."
      ],
      "execution_count": null,
      "outputs": []
    },
    {
      "cell_type": "markdown",
      "metadata": {
        "id": "GMmYt1EA7m48"
      },
      "source": [
        "## 1. Base Function"
      ]
    },
    {
      "cell_type": "code",
      "metadata": {
        "id": "eh807B-cVEqx"
      },
      "source": [
        "def file_num_padding(file_num):\n",
        "    if file_num < 10:\n",
        "        return '00000' + str(file_num)\n",
        "    elif file_num < 100:\n",
        "        return '0000' + str(file_num)\n",
        "    elif file_num < 1000:\n",
        "        return '000' + str(file_num)\n",
        "    elif file_num < 10000:\n",
        "        return '00' + str(file_num)\n",
        "    elif file_num < 100000:\n",
        "        return '0' + str(file_num)\n",
        "    else:\n",
        "        return str(file_num)\n",
        "\n",
        "def folder_1_padding(folder_num):\n",
        "    if folder_num < 10:\n",
        "        return '0' + str(folder_num) + '/'\n",
        "    else:\n",
        "        return str(folder_num) + '/'\n",
        "\n",
        "def folder_2_padding(folder_num):\n",
        "    if folder_num < 10:\n",
        "        return '000' + str(folder_num) + '/'\n",
        "    elif folder_num < 100:\n",
        "        return '00' + str(folder_num) + '/'\n",
        "    elif folder_num < 1000:\n",
        "        return '0' + str(folder_num) + '/'\n",
        "    else:\n",
        "        return str(folder_num) + '/'"
      ],
      "execution_count": 2,
      "outputs": []
    },
    {
      "cell_type": "code",
      "metadata": {
        "id": "QLSwtErb09uG"
      },
      "source": [
        "def get_path(path, fname, folder_1_num, folder_2_num, file_num, format):\n",
        "    folder_1_num = folder_1_padding(folder_1_num)\n",
        "    folder_2_num = folder_2_padding(folder_2_num)\n",
        "    file_num = file_num_padding(file_num)\n",
        "    return path + fname + folder_1_num + fname + folder_2_num + fname + file_num + format"
      ],
      "execution_count": 3,
      "outputs": []
    },
    {
      "cell_type": "code",
      "metadata": {
        "id": "x_jpxcyF4EAj",
        "outputId": "b066fb02-237c-4ce2-d459-2a82bf001179",
        "colab": {
          "base_uri": "https://localhost:8080/",
          "height": 34
        }
      },
      "source": [
        "BASE_PATH = '/content/drive/My Drive/googledrive/'\n",
        "fname = 'KsponSpeech_'\n",
        "folder_1_num = 1\n",
        "folder_2_num = 1\n",
        "file_num = 1\n",
        "format = '.txt'\n",
        "\n",
        "TEMP = get_path(BASE_PATH, fname, folder_1_num, folder_2_num, file_num, format)\n",
        "print(TEMP)"
      ],
      "execution_count": 4,
      "outputs": [
        {
          "output_type": "stream",
          "text": [
            "/content/drive/My Drive/googledrive/KsponSpeech_01/KsponSpeech_0001/KsponSpeech_000001.txt\n"
          ],
          "name": "stdout"
        }
      ]
    },
    {
      "cell_type": "markdown",
      "metadata": {
        "id": "Pk8OcoJx7pmk"
      },
      "source": [
        "## 2. Data-Preprocess"
      ]
    },
    {
      "cell_type": "code",
      "metadata": {
        "id": "qDcLv75V7q9l"
      },
      "source": [
        "def bracket_filter(sentence):\n",
        "    new_sentence = ''\n",
        "    flag = False\n",
        "\n",
        "    for ch in sentence:\n",
        "        if ch == '(' and flag == False:\n",
        "            flag = True\n",
        "            continue\n",
        "        if ch == ')' and flag == True:\n",
        "            flag = False\n",
        "            continue\n",
        "        if ch != ')' and flag == False:\n",
        "            new_sentence += ch\n",
        "            \n",
        "    return new_sentence"
      ],
      "execution_count": 5,
      "outputs": []
    },
    {
      "cell_type": "code",
      "metadata": {
        "id": "_pCS3uFo8V-u",
        "outputId": "0f5164a7-70d3-4643-c61d-82c41cacfcaf",
        "colab": {
          "base_uri": "https://localhost:8080/",
          "height": 52
        }
      },
      "source": [
        "with open(TEMP, 'r', encoding='ms949') as f:\n",
        "   r = f.read()\n",
        "   print(bracket_filter(r))"
      ],
      "execution_count": 6,
      "outputs": [
        {
          "output_type": "stream",
          "text": [
            "아/ 몬 소리야, 그건 또. b/\n",
            "\n"
          ],
          "name": "stdout"
        }
      ]
    },
    {
      "cell_type": "code",
      "metadata": {
        "id": "QRmSWYvk86P9"
      },
      "source": [
        "def special_filter(sentence):\n",
        "    SENTENCE_MARK = ['.', '?', ',', '!']\n",
        "    NOISE = ['o', 'n', 'u', 'b', 'l']\n",
        "    EXCEPT = ['/', '+', '*', '-', '@', '$', '^', '&', '[', ']', '=', ':', ';']\n",
        "\n",
        "    import re\n",
        "    \n",
        "    new_sentence = ''\n",
        "    for idx, ch in enumerate(sentence):\n",
        "        if ch not in SENTENCE_MARK:\n",
        "            # o/, n/ 등을 처리\n",
        "            if idx + 1 < len(sentence) and ch in NOISE and sentence[idx+1] == '/':\n",
        "                continue\n",
        "        if ch not in EXCEPT:\n",
        "            new_sentence += ch\n",
        "    pattern = re.compile(r'\\s\\s+')\n",
        "    new_sentence = re.sub(pattern, ' ', new_sentence.strip())\n",
        "    return new_sentence"
      ],
      "execution_count": 7,
      "outputs": []
    },
    {
      "cell_type": "code",
      "metadata": {
        "id": "Tdu190ruArYw",
        "outputId": "84ece2ca-7d77-499f-802c-8f59b933a652",
        "colab": {
          "base_uri": "https://localhost:8080/",
          "height": 34
        }
      },
      "source": [
        "with open(TEMP, 'r', encoding='ms949') as f:\n",
        "   r = f.read()\n",
        "   print(special_filter(r))"
      ],
      "execution_count": 8,
      "outputs": [
        {
          "output_type": "stream",
          "text": [
            "아 몬 소리야, 그건 또.\n"
          ],
          "name": "stdout"
        }
      ]
    },
    {
      "cell_type": "code",
      "metadata": {
        "id": "Ck6HlKyxCGoG"
      },
      "source": [
        "def sentence_filter(raw_sentence):\n",
        "    return special_filter(bracket_filter(raw_sentence))"
      ],
      "execution_count": 9,
      "outputs": []
    },
    {
      "cell_type": "code",
      "metadata": {
        "id": "yuon8EsCCzbB",
        "outputId": "b221d831-9908-4cfd-ee38-2509139ae515",
        "colab": {
          "base_uri": "https://localhost:8080/",
          "height": 34
        }
      },
      "source": [
        "with open(TEMP, 'r', encoding='ms949') as f:\n",
        "   r = f.read()\n",
        "   print(sentence_filter(r))"
      ],
      "execution_count": 10,
      "outputs": [
        {
          "output_type": "stream",
          "text": [
            "아 몬 소리야, 그건 또.\n"
          ],
          "name": "stdout"
        }
      ]
    },
    {
      "cell_type": "markdown",
      "metadata": {
        "id": "dtK2uwcaC6Qo"
      },
      "source": [
        "## 3. Create Character labels"
      ]
    },
    {
      "cell_type": "code",
      "metadata": {
        "id": "wmnfjyTyC3fD"
      },
      "source": [
        "import pandas as pd\n",
        "from tqdm import trange\n",
        "\n",
        "BASE_PATH = '/content/drive/My Drive/googledrive/'\n",
        "fname = 'KsponSpeech_'\n",
        "format = '.txt'\n",
        "\n",
        "total_f1 = 1\n",
        "total_f2 = 8\n",
        "total_fn = 7200\n",
        "\n",
        "label_list = []\n",
        "label_freq = []\n",
        "\n",
        "print('started...')\n",
        "for f1 in trange(1, total_f1+1):\n",
        "    for f2 in trange(1, total_f2+1):\n",
        "        for fn in trange(1, total_fn+1):\n",
        "            with open(get_path(BASE_PATH, fname, f1, f2, fn, format), 'r', encoding='ms949') as f:\n",
        "                sentence = f.readline()\n",
        "            for ch in sentence:\n",
        "                if ch not in label_list:\n",
        "                    label_list.append(ch)\n",
        "                    label_freq.append(1)\n",
        "                else:\n",
        "                    label_freq[label_list.index(ch)] += 1\n",
        "\n",
        "# sort together Using zip\n",
        "label_freq, label_list = zip(*sorted(zip(label_freq, label_list), reverse=True))\n",
        "label = {'id': [], 'char': [], 'freq': []}\n",
        "for idx, (ch, freq) in enumerate(zip(label_list, label_freq)):\n",
        "    label['id'].append(idx)\n",
        "    label['char'].append(ch)\n",
        "    label['freq'].append(freq)\n",
        "\n",
        "# dictionary to csv\n",
        "label_df = pd.DataFrame(label)\n",
        "label_df.to_csv('aihub_labels.csv', encoding='ms949', index=False)\n",
        "print(label_df)"
      ],
      "execution_count": null,
      "outputs": []
    },
    {
      "cell_type": "markdown",
      "metadata": {
        "id": "MgtlHHY6KfKU"
      },
      "source": [
        "## 4. Create target text"
      ]
    },
    {
      "cell_type": "code",
      "metadata": {
        "id": "b22aZYZXKhVr"
      },
      "source": [
        "import pandas as pd\n",
        "\n",
        "def load_label(file_path):\n",
        "    char2id = {}\n",
        "    id2char = {}\n",
        "    ch_labels = pd.read_csv(file_path, encoding='cp949')\n",
        "    id_list = ch_labels['id']\n",
        "    char_list = ch_labels['char']\n",
        "    freq_list = ch_labels['freq']\n",
        "\n",
        "    for (id, char, freq) in zip(id_list, char_list, freq_list):\n",
        "        char2id[char] = id\n",
        "        id2char[id] = char\n",
        "    return char2id, id2char"
      ],
      "execution_count": 13,
      "outputs": []
    },
    {
      "cell_type": "code",
      "metadata": {
        "id": "vDRRdqDSLI9G"
      },
      "source": [
        "def sentence_to_target(sentence, char2id):\n",
        "    target = ''\n",
        "    for ch in sentence:\n",
        "        target += (str(char2id[ch]) + ' ')\n",
        "    return target[:-1]"
      ],
      "execution_count": 14,
      "outputs": []
    },
    {
      "cell_type": "code",
      "metadata": {
        "id": "FJLIpD6kLegW"
      },
      "source": [
        "def target_to_sentence(target, id2char):\n",
        "    sentence = ''\n",
        "    targets = target.split()\n",
        "\n",
        "    for n in targets:\n",
        "        sentence += id2char[int(n)]\n",
        "    return sentence"
      ],
      "execution_count": 15,
      "outputs": []
    },
    {
      "cell_type": "code",
      "metadata": {
        "id": "KgdjxHoyNw6m"
      },
      "source": [
        "file_path = ''\n",
        "char2id, id2char = load_label(file_path)\n",
        "\n",
        "test = '인공지능 사관학교 화이팅!'\n",
        "a = sentence_to_target(test, char2id)\n",
        "print(a)\n",
        "b = target_to_sentence(a, id2char)\n",
        "print(b)"
      ],
      "execution_count": null,
      "outputs": []
    },
    {
      "cell_type": "code",
      "metadata": {
        "id": "PcpTJkqqOIqw"
      },
      "source": [
        "import pandas as pd\n",
        "from tqdm import trange\n",
        "\n",
        "BASE_PATH = '/content/drive/My Drive/googledrive/'\n",
        "fname = 'KsponSpeech_'\n",
        "format = '.txt'\n",
        "new_fname = 'KsponSpeech_label_'\n",
        "\n",
        "total_f1 = 1\n",
        "total_f2 = 8\n",
        "total_fn = 7200\n",
        "char2id, id2char = load_label('test_label.csv')\n",
        "\n",
        "print('started...')\n",
        "for f1 in trange(1, total_f1+1):\n",
        "    for f2 in trange(1, total_f2+1):\n",
        "        for fn in trange(1, total_fn+1):\n",
        "            with open(get_path(BASE_PATH, fname, f1, f2, fn, format), 'r', encoding='ms949') as f:\n",
        "                sentence = f.readline()\n",
        "\n",
        "            with open(get_path(BASE_PATH, new_fname, f1, f2, fn, format), 'w', encoding='ms949') as f:\n",
        "                target = sentence_to_target(sentence, char2id)\n",
        "                f.write(target)"
      ],
      "execution_count": null,
      "outputs": []
    },
    {
      "cell_type": "markdown",
      "metadata": {
        "id": "8SZYhNm4QjAB"
      },
      "source": [
        "## 5. Create data list"
      ]
    },
    {
      "cell_type": "code",
      "metadata": {
        "id": "JZ3lJiH9QnNw"
      },
      "source": [
        "import pandas as pd\n",
        "\n",
        "total_fn = 7200\n",
        "train_num = int(total_num * 0.98)\n",
        "test_num = total_fn - train_num\n",
        "\n"
      ],
      "execution_count": null,
      "outputs": []
    }
  ]
}